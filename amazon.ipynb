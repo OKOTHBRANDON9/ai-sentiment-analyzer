{
 "cells": [
  {
   "cell_type": "code",
   "execution_count": 26,
   "id": "f8cfc2ae",
   "metadata": {},
   "outputs": [
    {
     "name": "stdout",
     "output_type": "stream",
     "text": [
      "(1465, 16)\n",
      "(500, 16)\n"
     ]
    }
   ],
   "source": [
    "import pandas as pd\n",
    "df=pd.read_csv('amazon.csv')\n",
    "print (df.shape)\n",
    "df=df.head(500)\n",
    "print(df.shape)"
   ]
  },
  {
   "cell_type": "code",
   "execution_count": 25,
   "id": "062567e5",
   "metadata": {},
   "outputs": [
    {
     "data": {
      "text/html": [
       "<div>\n",
       "<style scoped>\n",
       "    .dataframe tbody tr th:only-of-type {\n",
       "        vertical-align: middle;\n",
       "    }\n",
       "\n",
       "    .dataframe tbody tr th {\n",
       "        vertical-align: top;\n",
       "    }\n",
       "\n",
       "    .dataframe thead th {\n",
       "        text-align: right;\n",
       "    }\n",
       "</style>\n",
       "<table border=\"1\" class=\"dataframe\">\n",
       "  <thead>\n",
       "    <tr style=\"text-align: right;\">\n",
       "      <th></th>\n",
       "      <th>product_id</th>\n",
       "      <th>product_name</th>\n",
       "      <th>category</th>\n",
       "      <th>discounted_price</th>\n",
       "      <th>actual_price</th>\n",
       "      <th>discount_percentage</th>\n",
       "      <th>rating</th>\n",
       "      <th>rating_count</th>\n",
       "      <th>about_product</th>\n",
       "      <th>user_id</th>\n",
       "      <th>user_name</th>\n",
       "      <th>review_id</th>\n",
       "      <th>review_title</th>\n",
       "      <th>review_content</th>\n",
       "      <th>img_link</th>\n",
       "      <th>product_link</th>\n",
       "    </tr>\n",
       "  </thead>\n",
       "  <tbody>\n",
       "    <tr>\n",
       "      <th>0</th>\n",
       "      <td>B07JW9H4J1</td>\n",
       "      <td>Wayona Nylon Braided USB to Lightning Fast Cha...</td>\n",
       "      <td>Computers&amp;Accessories|Accessories&amp;Peripherals|...</td>\n",
       "      <td>₹399</td>\n",
       "      <td>₹1,099</td>\n",
       "      <td>64%</td>\n",
       "      <td>4.2</td>\n",
       "      <td>24,269</td>\n",
       "      <td>High Compatibility : Compatible With iPhone 12...</td>\n",
       "      <td>AG3D6O4STAQKAY2UVGEUV46KN35Q,AHMY5CWJMMK5BJRBB...</td>\n",
       "      <td>Manav,Adarsh gupta,Sundeep,S.Sayeed Ahmed,jasp...</td>\n",
       "      <td>R3HXWT0LRP0NMF,R2AJM3LFTLZHFO,R6AQJGUP6P86,R1K...</td>\n",
       "      <td>Satisfied,Charging is really fast,Value for mo...</td>\n",
       "      <td>looks durable charging fine toono complainscha...</td>\n",
       "      <td>https://m.media-amazon.com/images/W/WEBP_40237...</td>\n",
       "      <td>https://www.amazon.in/Wayona-Braided-WN3LG1-Sy...</td>\n",
       "    </tr>\n",
       "    <tr>\n",
       "      <th>1</th>\n",
       "      <td>B098NS6PVG</td>\n",
       "      <td>Ambrane Unbreakable 60W / 3A Fast Charging 1.5...</td>\n",
       "      <td>Computers&amp;Accessories|Accessories&amp;Peripherals|...</td>\n",
       "      <td>₹199</td>\n",
       "      <td>₹349</td>\n",
       "      <td>43%</td>\n",
       "      <td>4.0</td>\n",
       "      <td>43,994</td>\n",
       "      <td>Compatible with all Type C enabled devices, be...</td>\n",
       "      <td>AECPFYFQVRUWC3KGNLJIOREFP5LQ,AGYYVPDD7YG7FYNBX...</td>\n",
       "      <td>ArdKn,Nirbhay kumar,Sagar Viswanathan,Asp,Plac...</td>\n",
       "      <td>RGIQEG07R9HS2,R1SMWZQ86XIN8U,R2J3Y1WL29GWDE,RY...</td>\n",
       "      <td>A Good Braided Cable for Your Type C Device,Go...</td>\n",
       "      <td>ordered cable connect phone android auto car c...</td>\n",
       "      <td>https://m.media-amazon.com/images/W/WEBP_40237...</td>\n",
       "      <td>https://www.amazon.in/Ambrane-Unbreakable-Char...</td>\n",
       "    </tr>\n",
       "    <tr>\n",
       "      <th>2</th>\n",
       "      <td>B096MSW6CT</td>\n",
       "      <td>Sounce Fast Phone Charging Cable &amp; Data Sync U...</td>\n",
       "      <td>Computers&amp;Accessories|Accessories&amp;Peripherals|...</td>\n",
       "      <td>₹199</td>\n",
       "      <td>₹1,899</td>\n",
       "      <td>90%</td>\n",
       "      <td>3.9</td>\n",
       "      <td>7,928</td>\n",
       "      <td>【 Fast Charger&amp; Data Sync】-With built-in safet...</td>\n",
       "      <td>AGU3BBQ2V2DDAMOAKGFAWDDQ6QHA,AESFLDV2PT363T2AQ...</td>\n",
       "      <td>Kunal,Himanshu,viswanath,sai niharka,saqib mal...</td>\n",
       "      <td>R3J3EQQ9TZI5ZJ,R3E7WBGK7ID0KV,RWU79XKQ6I1QF,R2...</td>\n",
       "      <td>Good speed for earlier versions,Good Product,W...</td>\n",
       "      <td>quite durable sturdyhttpsmmediaamazoncomimages...</td>\n",
       "      <td>https://m.media-amazon.com/images/W/WEBP_40237...</td>\n",
       "      <td>https://www.amazon.in/Sounce-iPhone-Charging-C...</td>\n",
       "    </tr>\n",
       "    <tr>\n",
       "      <th>3</th>\n",
       "      <td>B08HDJ86NZ</td>\n",
       "      <td>boAt Deuce USB 300 2 in 1 Type-C &amp; Micro USB S...</td>\n",
       "      <td>Computers&amp;Accessories|Accessories&amp;Peripherals|...</td>\n",
       "      <td>₹329</td>\n",
       "      <td>₹699</td>\n",
       "      <td>53%</td>\n",
       "      <td>4.2</td>\n",
       "      <td>94,363</td>\n",
       "      <td>The boAt Deuce USB 300 2 in 1 cable is compati...</td>\n",
       "      <td>AEWAZDZZJLQUYVOVGBEUKSLXHQ5A,AG5HTSFRRE6NL3M5S...</td>\n",
       "      <td>Omkar dhale,JD,HEMALATHA,Ajwadh a.,amar singh ...</td>\n",
       "      <td>R3EEUZKKK9J36I,R3HJVYCLYOY554,REDECAZ7AMPQC,R1...</td>\n",
       "      <td>Good product,Good one,Nice,Really nice product...</td>\n",
       "      <td>good productlong wirecharges goodnicei bought ...</td>\n",
       "      <td>https://m.media-amazon.com/images/I/41V5FtEWPk...</td>\n",
       "      <td>https://www.amazon.in/Deuce-300-Resistant-Tang...</td>\n",
       "    </tr>\n",
       "    <tr>\n",
       "      <th>4</th>\n",
       "      <td>B08CF3B7N1</td>\n",
       "      <td>Portronics Konnect L 1.2M Fast Charging 3A 8 P...</td>\n",
       "      <td>Computers&amp;Accessories|Accessories&amp;Peripherals|...</td>\n",
       "      <td>₹154</td>\n",
       "      <td>₹399</td>\n",
       "      <td>61%</td>\n",
       "      <td>4.2</td>\n",
       "      <td>16,905</td>\n",
       "      <td>[CHARGE &amp; SYNC FUNCTION]- This cable comes wit...</td>\n",
       "      <td>AE3Q6KSUK5P75D5HFYHCRAOLODSA,AFUGIFH5ZAFXRDSZH...</td>\n",
       "      <td>rahuls6099,Swasat Borah,Ajay Wadke,Pranali,RVK...</td>\n",
       "      <td>R1BP4L2HH9TFUP,R16PVJEXKV6QZS,R2UPDB81N66T4P,R...</td>\n",
       "      <td>As good as original,Decent,Good one for second...</td>\n",
       "      <td>bought instead original apple work rs fast app...</td>\n",
       "      <td>https://m.media-amazon.com/images/W/WEBP_40237...</td>\n",
       "      <td>https://www.amazon.in/Portronics-Konnect-POR-1...</td>\n",
       "    </tr>\n",
       "  </tbody>\n",
       "</table>\n",
       "</div>"
      ],
      "text/plain": [
       "   product_id                                       product_name  \\\n",
       "0  B07JW9H4J1  Wayona Nylon Braided USB to Lightning Fast Cha...   \n",
       "1  B098NS6PVG  Ambrane Unbreakable 60W / 3A Fast Charging 1.5...   \n",
       "2  B096MSW6CT  Sounce Fast Phone Charging Cable & Data Sync U...   \n",
       "3  B08HDJ86NZ  boAt Deuce USB 300 2 in 1 Type-C & Micro USB S...   \n",
       "4  B08CF3B7N1  Portronics Konnect L 1.2M Fast Charging 3A 8 P...   \n",
       "\n",
       "                                            category discounted_price  \\\n",
       "0  Computers&Accessories|Accessories&Peripherals|...             ₹399   \n",
       "1  Computers&Accessories|Accessories&Peripherals|...             ₹199   \n",
       "2  Computers&Accessories|Accessories&Peripherals|...             ₹199   \n",
       "3  Computers&Accessories|Accessories&Peripherals|...             ₹329   \n",
       "4  Computers&Accessories|Accessories&Peripherals|...             ₹154   \n",
       "\n",
       "  actual_price discount_percentage rating rating_count  \\\n",
       "0       ₹1,099                 64%    4.2       24,269   \n",
       "1         ₹349                 43%    4.0       43,994   \n",
       "2       ₹1,899                 90%    3.9        7,928   \n",
       "3         ₹699                 53%    4.2       94,363   \n",
       "4         ₹399                 61%    4.2       16,905   \n",
       "\n",
       "                                       about_product  \\\n",
       "0  High Compatibility : Compatible With iPhone 12...   \n",
       "1  Compatible with all Type C enabled devices, be...   \n",
       "2  【 Fast Charger& Data Sync】-With built-in safet...   \n",
       "3  The boAt Deuce USB 300 2 in 1 cable is compati...   \n",
       "4  [CHARGE & SYNC FUNCTION]- This cable comes wit...   \n",
       "\n",
       "                                             user_id  \\\n",
       "0  AG3D6O4STAQKAY2UVGEUV46KN35Q,AHMY5CWJMMK5BJRBB...   \n",
       "1  AECPFYFQVRUWC3KGNLJIOREFP5LQ,AGYYVPDD7YG7FYNBX...   \n",
       "2  AGU3BBQ2V2DDAMOAKGFAWDDQ6QHA,AESFLDV2PT363T2AQ...   \n",
       "3  AEWAZDZZJLQUYVOVGBEUKSLXHQ5A,AG5HTSFRRE6NL3M5S...   \n",
       "4  AE3Q6KSUK5P75D5HFYHCRAOLODSA,AFUGIFH5ZAFXRDSZH...   \n",
       "\n",
       "                                           user_name  \\\n",
       "0  Manav,Adarsh gupta,Sundeep,S.Sayeed Ahmed,jasp...   \n",
       "1  ArdKn,Nirbhay kumar,Sagar Viswanathan,Asp,Plac...   \n",
       "2  Kunal,Himanshu,viswanath,sai niharka,saqib mal...   \n",
       "3  Omkar dhale,JD,HEMALATHA,Ajwadh a.,amar singh ...   \n",
       "4  rahuls6099,Swasat Borah,Ajay Wadke,Pranali,RVK...   \n",
       "\n",
       "                                           review_id  \\\n",
       "0  R3HXWT0LRP0NMF,R2AJM3LFTLZHFO,R6AQJGUP6P86,R1K...   \n",
       "1  RGIQEG07R9HS2,R1SMWZQ86XIN8U,R2J3Y1WL29GWDE,RY...   \n",
       "2  R3J3EQQ9TZI5ZJ,R3E7WBGK7ID0KV,RWU79XKQ6I1QF,R2...   \n",
       "3  R3EEUZKKK9J36I,R3HJVYCLYOY554,REDECAZ7AMPQC,R1...   \n",
       "4  R1BP4L2HH9TFUP,R16PVJEXKV6QZS,R2UPDB81N66T4P,R...   \n",
       "\n",
       "                                        review_title  \\\n",
       "0  Satisfied,Charging is really fast,Value for mo...   \n",
       "1  A Good Braided Cable for Your Type C Device,Go...   \n",
       "2  Good speed for earlier versions,Good Product,W...   \n",
       "3  Good product,Good one,Nice,Really nice product...   \n",
       "4  As good as original,Decent,Good one for second...   \n",
       "\n",
       "                                      review_content  \\\n",
       "0  looks durable charging fine toono complainscha...   \n",
       "1  ordered cable connect phone android auto car c...   \n",
       "2  quite durable sturdyhttpsmmediaamazoncomimages...   \n",
       "3  good productlong wirecharges goodnicei bought ...   \n",
       "4  bought instead original apple work rs fast app...   \n",
       "\n",
       "                                            img_link  \\\n",
       "0  https://m.media-amazon.com/images/W/WEBP_40237...   \n",
       "1  https://m.media-amazon.com/images/W/WEBP_40237...   \n",
       "2  https://m.media-amazon.com/images/W/WEBP_40237...   \n",
       "3  https://m.media-amazon.com/images/I/41V5FtEWPk...   \n",
       "4  https://m.media-amazon.com/images/W/WEBP_40237...   \n",
       "\n",
       "                                        product_link  \n",
       "0  https://www.amazon.in/Wayona-Braided-WN3LG1-Sy...  \n",
       "1  https://www.amazon.in/Ambrane-Unbreakable-Char...  \n",
       "2  https://www.amazon.in/Sounce-iPhone-Charging-C...  \n",
       "3  https://www.amazon.in/Deuce-300-Resistant-Tang...  \n",
       "4  https://www.amazon.in/Portronics-Konnect-POR-1...  "
      ]
     },
     "execution_count": 25,
     "metadata": {},
     "output_type": "execute_result"
    }
   ],
   "source": [
    "df.head()"
   ]
  },
  {
   "cell_type": "code",
   "execution_count": 9,
   "id": "27d37486",
   "metadata": {},
   "outputs": [],
   "source": [
    "import pandas as pd \n",
    "\n",
    "import random\n",
    "\n",
    "import re \n",
    "\n",
    "import nltk \n",
    "\n",
    "from nltk.tokenize import word_tokenize \n",
    "\n",
    "from nltk.corpus import stopwords \n",
    "\n",
    "from nltk.stem import PorterStemmer, WordNetLemmatizer \n",
    "\n",
    "from wordcloud import WordCloud"
   ]
  },
  {
   "cell_type": "code",
   "execution_count": 23,
   "id": "ff457960",
   "metadata": {},
   "outputs": [],
   "source": [
    "# converting text to lowercase\n",
    "df['review_content'] = df['review_content'].str.lower()\n",
    "\n",
    "# removing punctuation and digits\n",
    "import string\n",
    "df['review_content'] = df['review_content'].apply(lambda x: x.translate(str.maketrans('', '', string.punctuation+string.digits)))\n",
    "\n",
    "# removing stopwords\n",
    "from nltk.corpus import stopwords\n",
    "stop_words = set(stopwords.words('english'))\n",
    "df['review_content'] = df['review_content'].apply(lambda x: ' '.join([word for word in x.split() if word not in stop_words]))\n"
   ]
  },
  {
   "cell_type": "code",
   "execution_count": 31,
   "id": "03259c38",
   "metadata": {},
   "outputs": [],
   "source": [
    "## Basic NLTK"
   ]
  },
  {
   "cell_type": "code",
   "execution_count": 42,
   "id": "48e00be6",
   "metadata": {},
   "outputs": [
    {
     "name": "stdout",
     "output_type": "stream",
     "text": [
      "A Good Braided Cable for Your Type C Device,Good quality product from ambrane,Super cable,As,Good quality,Good product,its good,Good quality for the price but one issue with my unit\n"
     ]
    }
   ],
   "source": [
    "example = df['review_title'][1]\n",
    "print(example)\n"
   ]
  },
  {
   "cell_type": "code",
   "execution_count": 48,
   "id": "3f2e896e",
   "metadata": {},
   "outputs": [
    {
     "data": {
      "text/plain": [
       "['A', 'Good', 'Braided', 'Cable', 'for', 'Your', 'Type', 'C', 'Device', ',']"
      ]
     },
     "execution_count": 48,
     "metadata": {},
     "output_type": "execute_result"
    }
   ],
   "source": [
    "tokens=nltk.word_tokenize(example)## nltk tokenization\n",
    "tokens[:10]"
   ]
  },
  {
   "cell_type": "code",
   "execution_count": 49,
   "id": "a825816f",
   "metadata": {},
   "outputs": [
    {
     "data": {
      "text/plain": [
       "[('A', 'DT'),\n",
       " ('Good', 'NNP'),\n",
       " ('Braided', 'NNP'),\n",
       " ('Cable', 'NNP'),\n",
       " ('for', 'IN'),\n",
       " ('Your', 'PRP$'),\n",
       " ('Type', 'NNP'),\n",
       " ('C', 'NNP'),\n",
       " ('Device', 'NNP'),\n",
       " (',', ',')]"
      ]
     },
     "execution_count": 49,
     "metadata": {},
     "output_type": "execute_result"
    }
   ],
   "source": [
    "tagged=nltk.pos_tag(tokens)## nltk part of speech tags\n",
    "tagged[:10]"
   ]
  },
  {
   "cell_type": "code",
   "execution_count": 52,
   "id": "f2045b04",
   "metadata": {},
   "outputs": [
    {
     "name": "stdout",
     "output_type": "stream",
     "text": [
      "(S\n",
      "  A/DT\n",
      "  (ORGANIZATION Good/NNP Braided/NNP Cable/NNP)\n",
      "  for/IN\n",
      "  Your/PRP$\n",
      "  Type/NNP\n",
      "  C/NNP\n",
      "  Device/NNP\n",
      "  ,/,\n",
      "  (GPE Good/NNP)\n",
      "  quality/NN\n",
      "  product/NN\n",
      "  from/IN\n",
      "  ambrane/NN\n",
      "  ,/,\n",
      "  (GPE Super/NNP)\n",
      "  cable/NN\n",
      "  ,/,\n",
      "  As/IN\n",
      "  ,/,\n",
      "  (GPE Good/NNP)\n",
      "  quality/NN\n",
      "  ,/,\n",
      "  (GPE Good/NNP)\n",
      "  product/NN\n",
      "  ,/,\n",
      "  its/PRP$\n",
      "  good/JJ\n",
      "  ,/,\n",
      "  (GPE Good/JJ)\n",
      "  quality/NN\n",
      "  for/IN\n",
      "  the/DT\n",
      "  price/NN\n",
      "  but/CC\n",
      "  one/CD\n",
      "  issue/NN\n",
      "  with/IN\n",
      "  my/PRP$\n",
      "  unit/NN)\n"
     ]
    }
   ],
   "source": [
    "entities=nltk.chunk.ne_chunk(tagged) \n",
    "entities.pprint()"
   ]
  },
  {
   "cell_type": "code",
   "execution_count": 53,
   "id": "1f1e4e9e",
   "metadata": {},
   "outputs": [],
   "source": [
    "##step 1 VADER sentiment scoring has a value of + - or neutral from statemnents"
   ]
  },
  {
   "cell_type": "code",
   "execution_count": 60,
   "id": "8d07857a",
   "metadata": {},
   "outputs": [],
   "source": [
    "from nltk.sentiment import SentimentIntensityAnalyzer\n",
    "from tqdm.notebook import tqdm\n",
    "\n",
    "sia = SentimentIntensityAnalyzer()"
   ]
  },
  {
   "cell_type": "code",
   "execution_count": 61,
   "id": "1eb3a0c8",
   "metadata": {},
   "outputs": [
    {
     "data": {
      "text/plain": [
       "{'neg': 0.0, 'neu': 0.318, 'pos': 0.682, 'compound': 0.6468}"
      ]
     },
     "execution_count": 61,
     "metadata": {},
     "output_type": "execute_result"
    }
   ],
   "source": [
    "sia.polarity_scores(\"i am so happy!\")"
   ]
  },
  {
   "cell_type": "code",
   "execution_count": 62,
   "id": "1bc9c830",
   "metadata": {},
   "outputs": [
    {
     "data": {
      "text/plain": [
       "{'neg': 0.468, 'neu': 0.532, 'pos': 0.0, 'compound': -0.6588}"
      ]
     },
     "execution_count": 62,
     "metadata": {},
     "output_type": "execute_result"
    }
   ],
   "source": [
    "sia.polarity_scores(\"this is the worst thing ever!\")"
   ]
  },
  {
   "cell_type": "code",
   "execution_count": 63,
   "id": "1dbcbafc",
   "metadata": {},
   "outputs": [
    {
     "data": {
      "text/plain": [
       "{'neg': 0.0, 'neu': 0.925, 'pos': 0.075, 'compound': 0.2382}"
      ]
     },
     "execution_count": 63,
     "metadata": {},
     "output_type": "execute_result"
    }
   ],
   "source": [
    "sia.polarity_scores(example)"
   ]
  },
  {
   "cell_type": "code",
   "execution_count": 78,
   "id": "cb14a897",
   "metadata": {
    "scrolled": true
   },
   "outputs": [
    {
     "ename": "ImportError",
     "evalue": "IProgress not found. Please update jupyter and ipywidgets. See https://ipywidgets.readthedocs.io/en/stable/user_install.html",
     "output_type": "error",
     "traceback": [
      "\u001b[1;31m---------------------------------------------------------------------------\u001b[0m",
      "\u001b[1;31mImportError\u001b[0m                               Traceback (most recent call last)",
      "Cell \u001b[1;32mIn[78], line 3\u001b[0m\n\u001b[0;32m      1\u001b[0m \u001b[38;5;66;03m##run the polarity score on the entire dataset\u001b[39;00m\n\u001b[0;32m      2\u001b[0m df\n\u001b[1;32m----> 3\u001b[0m \u001b[38;5;28;01mfor\u001b[39;00m i, row \u001b[38;5;129;01min\u001b[39;00m \u001b[43mtqdm\u001b[49m\u001b[43m(\u001b[49m\u001b[43mdf\u001b[49m\u001b[38;5;241;43m.\u001b[39;49m\u001b[43miterrows\u001b[49m\u001b[43m(\u001b[49m\u001b[43m)\u001b[49m\u001b[43m)\u001b[49m:\n\u001b[0;32m      4\u001b[0m     text \u001b[38;5;241m=\u001b[39m row[\u001b[38;5;124m'\u001b[39m\u001b[38;5;124mreview_content\u001b[39m\u001b[38;5;124m'\u001b[39m]\n\u001b[0;32m      5\u001b[0m     myid \u001b[38;5;241m=\u001b[39m row[\u001b[38;5;124m'\u001b[39m\u001b[38;5;124mreview_title\u001b[39m\u001b[38;5;124m'\u001b[39m]\n",
      "File \u001b[1;32m~\\anaconda3\\envs\\tensorflow\\lib\\site-packages\\tqdm\\notebook.py:238\u001b[0m, in \u001b[0;36mtqdm_notebook.__init__\u001b[1;34m(self, *args, **kwargs)\u001b[0m\n\u001b[0;32m    236\u001b[0m unit_scale \u001b[38;5;241m=\u001b[39m \u001b[38;5;241m1\u001b[39m \u001b[38;5;28;01mif\u001b[39;00m \u001b[38;5;28mself\u001b[39m\u001b[38;5;241m.\u001b[39munit_scale \u001b[38;5;129;01mis\u001b[39;00m \u001b[38;5;28;01mTrue\u001b[39;00m \u001b[38;5;28;01melse\u001b[39;00m \u001b[38;5;28mself\u001b[39m\u001b[38;5;241m.\u001b[39munit_scale \u001b[38;5;129;01mor\u001b[39;00m \u001b[38;5;241m1\u001b[39m\n\u001b[0;32m    237\u001b[0m total \u001b[38;5;241m=\u001b[39m \u001b[38;5;28mself\u001b[39m\u001b[38;5;241m.\u001b[39mtotal \u001b[38;5;241m*\u001b[39m unit_scale \u001b[38;5;28;01mif\u001b[39;00m \u001b[38;5;28mself\u001b[39m\u001b[38;5;241m.\u001b[39mtotal \u001b[38;5;28;01melse\u001b[39;00m \u001b[38;5;28mself\u001b[39m\u001b[38;5;241m.\u001b[39mtotal\n\u001b[1;32m--> 238\u001b[0m \u001b[38;5;28mself\u001b[39m\u001b[38;5;241m.\u001b[39mcontainer \u001b[38;5;241m=\u001b[39m \u001b[38;5;28;43mself\u001b[39;49m\u001b[38;5;241;43m.\u001b[39;49m\u001b[43mstatus_printer\u001b[49m\u001b[43m(\u001b[49m\u001b[38;5;28;43mself\u001b[39;49m\u001b[38;5;241;43m.\u001b[39;49m\u001b[43mfp\u001b[49m\u001b[43m,\u001b[49m\u001b[43m \u001b[49m\u001b[43mtotal\u001b[49m\u001b[43m,\u001b[49m\u001b[43m \u001b[49m\u001b[38;5;28;43mself\u001b[39;49m\u001b[38;5;241;43m.\u001b[39;49m\u001b[43mdesc\u001b[49m\u001b[43m,\u001b[49m\u001b[43m \u001b[49m\u001b[38;5;28;43mself\u001b[39;49m\u001b[38;5;241;43m.\u001b[39;49m\u001b[43mncols\u001b[49m\u001b[43m)\u001b[49m\n\u001b[0;32m    239\u001b[0m \u001b[38;5;28mself\u001b[39m\u001b[38;5;241m.\u001b[39mcontainer\u001b[38;5;241m.\u001b[39mpbar \u001b[38;5;241m=\u001b[39m proxy(\u001b[38;5;28mself\u001b[39m)\n\u001b[0;32m    240\u001b[0m \u001b[38;5;28mself\u001b[39m\u001b[38;5;241m.\u001b[39mdisplayed \u001b[38;5;241m=\u001b[39m \u001b[38;5;28;01mFalse\u001b[39;00m\n",
      "File \u001b[1;32m~\\anaconda3\\envs\\tensorflow\\lib\\site-packages\\tqdm\\notebook.py:113\u001b[0m, in \u001b[0;36mtqdm_notebook.status_printer\u001b[1;34m(_, total, desc, ncols)\u001b[0m\n\u001b[0;32m    104\u001b[0m \u001b[38;5;66;03m# Fallback to text bar if there's no total\u001b[39;00m\n\u001b[0;32m    105\u001b[0m \u001b[38;5;66;03m# DEPRECATED: replaced with an 'info' style bar\u001b[39;00m\n\u001b[0;32m    106\u001b[0m \u001b[38;5;66;03m# if not total:\u001b[39;00m\n\u001b[1;32m   (...)\u001b[0m\n\u001b[0;32m    110\u001b[0m \n\u001b[0;32m    111\u001b[0m \u001b[38;5;66;03m# Prepare IPython progress bar\u001b[39;00m\n\u001b[0;32m    112\u001b[0m \u001b[38;5;28;01mif\u001b[39;00m IProgress \u001b[38;5;129;01mis\u001b[39;00m \u001b[38;5;28;01mNone\u001b[39;00m:  \u001b[38;5;66;03m# #187 #451 #558 #872\u001b[39;00m\n\u001b[1;32m--> 113\u001b[0m     \u001b[38;5;28;01mraise\u001b[39;00m \u001b[38;5;167;01mImportError\u001b[39;00m(WARN_NOIPYW)\n\u001b[0;32m    114\u001b[0m \u001b[38;5;28;01mif\u001b[39;00m total:\n\u001b[0;32m    115\u001b[0m     pbar \u001b[38;5;241m=\u001b[39m IProgress(\u001b[38;5;28mmin\u001b[39m\u001b[38;5;241m=\u001b[39m\u001b[38;5;241m0\u001b[39m, \u001b[38;5;28mmax\u001b[39m\u001b[38;5;241m=\u001b[39mtotal)\n",
      "\u001b[1;31mImportError\u001b[0m: IProgress not found. Please update jupyter and ipywidgets. See https://ipywidgets.readthedocs.io/en/stable/user_install.html"
     ]
    }
   ],
   "source": [
    "##run the polarity score on the entire dataset\n",
    "df\n",
    "for i, row in tqdm(df.iterrows()):\n",
    "    text = row['review_content']\n",
    "    myid = row['review_title']\n",
    "    break"
   ]
  },
  {
   "cell_type": "code",
   "execution_count": 73,
   "id": "eafea186",
   "metadata": {},
   "outputs": [
    {
     "name": "stdout",
     "output_type": "stream",
     "text": [
      "Collecting ipywidgetsNote: you may need to restart the kernel to use updated packages.\n",
      "\n",
      "  Downloading ipywidgets-8.0.6-py3-none-any.whl (138 kB)\n",
      "     ---------------------------------------- 0.0/138.3 kB ? eta -:--:--\n",
      "     -- ------------------------------------- 10.2/138.3 kB ? eta -:--:--\n",
      "     -------- ---------------------------- 30.7/138.3 kB 187.9 kB/s eta 0:00:01\n",
      "     -------- ---------------------------- 30.7/138.3 kB 187.9 kB/s eta 0:00:01\n",
      "     ------------- ----------------------- 51.2/138.3 kB 201.8 kB/s eta 0:00:01\n",
      "     ---------------- -------------------- 61.4/138.3 kB 233.8 kB/s eta 0:00:01\n",
      "     ------------------- ----------------- 71.7/138.3 kB 218.6 kB/s eta 0:00:01\n",
      "     ------------------------ ------------ 92.2/138.3 kB 275.8 kB/s eta 0:00:01\n",
      "     ------------------------ ------------ 92.2/138.3 kB 275.8 kB/s eta 0:00:01\n",
      "     ---------------------------------- - 133.1/138.3 kB 315.1 kB/s eta 0:00:01\n",
      "     ---------------------------------- - 133.1/138.3 kB 315.1 kB/s eta 0:00:01\n",
      "     ------------------------------------ 138.3/138.3 kB 256.1 kB/s eta 0:00:00\n",
      "Collecting widgetsnbextension~=4.0.7\n",
      "  Downloading widgetsnbextension-4.0.7-py3-none-any.whl (2.1 MB)\n",
      "     ---------------------------------------- 0.0/2.1 MB ? eta -:--:--\n",
      "     - -------------------------------------- 0.1/2.1 MB ? eta -:--:--\n",
      "     - -------------------------------------- 0.1/2.1 MB ? eta -:--:--\n",
      "     - -------------------------------------- 0.1/2.1 MB ? eta -:--:--\n",
      "     - -------------------------------------- 0.1/2.1 MB ? eta -:--:--\n",
      "     - -------------------------------------- 0.1/2.1 MB ? eta -:--:--\n",
      "     - -------------------------------------- 0.1/2.1 MB ? eta -:--:--\n",
      "     - -------------------------------------- 0.1/2.1 MB ? eta -:--:--\n",
      "     - -------------------------------------- 0.1/2.1 MB 249.8 kB/s eta 0:00:09\n",
      "     --- ------------------------------------ 0.2/2.1 MB 518.8 kB/s eta 0:00:04\n",
      "     --- ------------------------------------ 0.2/2.1 MB 518.8 kB/s eta 0:00:04\n",
      "     --- ------------------------------------ 0.2/2.1 MB 518.8 kB/s eta 0:00:04\n",
      "     ---- ----------------------------------- 0.2/2.1 MB 430.1 kB/s eta 0:00:05\n",
      "     ----- ---------------------------------- 0.3/2.1 MB 460.6 kB/s eta 0:00:04\n",
      "     ------ --------------------------------- 0.3/2.1 MB 491.5 kB/s eta 0:00:04\n",
      "     ------ --------------------------------- 0.3/2.1 MB 511.2 kB/s eta 0:00:04\n",
      "     ------ --------------------------------- 0.4/2.1 MB 506.0 kB/s eta 0:00:04\n",
      "     ------- -------------------------------- 0.4/2.1 MB 546.1 kB/s eta 0:00:04\n",
      "     -------- ------------------------------- 0.5/2.1 MB 590.0 kB/s eta 0:00:03\n",
      "     --------- ------------------------------ 0.5/2.1 MB 604.6 kB/s eta 0:00:03\n",
      "     ---------- ----------------------------- 0.5/2.1 MB 596.8 kB/s eta 0:00:03\n",
      "     ---------- ----------------------------- 0.6/2.1 MB 599.7 kB/s eta 0:00:03\n",
      "     ----------- ---------------------------- 0.6/2.1 MB 634.0 kB/s eta 0:00:03\n",
      "     ------------ --------------------------- 0.7/2.1 MB 675.8 kB/s eta 0:00:03\n",
      "     ------------- -------------------------- 0.7/2.1 MB 674.3 kB/s eta 0:00:03\n",
      "     -------------- ------------------------- 0.8/2.1 MB 692.5 kB/s eta 0:00:02\n",
      "     --------------- ------------------------ 0.8/2.1 MB 708.6 kB/s eta 0:00:02\n",
      "     ---------------- ----------------------- 0.9/2.1 MB 732.7 kB/s eta 0:00:02\n",
      "     ----------------- ---------------------- 0.9/2.1 MB 739.2 kB/s eta 0:00:02\n",
      "     ------------------ --------------------- 1.0/2.1 MB 760.3 kB/s eta 0:00:02\n",
      "     ------------------- -------------------- 1.0/2.1 MB 772.1 kB/s eta 0:00:02\n",
      "     -------------------- ------------------- 1.1/2.1 MB 792.4 kB/s eta 0:00:02\n",
      "     --------------------- ------------------ 1.1/2.1 MB 802.4 kB/s eta 0:00:02\n",
      "     ---------------------- ----------------- 1.2/2.1 MB 818.9 kB/s eta 0:00:02\n",
      "     ----------------------- ---------------- 1.2/2.1 MB 822.5 kB/s eta 0:00:02\n",
      "     ----------------------- ---------------- 1.2/2.1 MB 828.0 kB/s eta 0:00:02\n",
      "     ------------------------- -------------- 1.3/2.1 MB 847.3 kB/s eta 0:00:01\n",
      "     -------------------------- ------------- 1.4/2.1 MB 860.8 kB/s eta 0:00:01\n",
      "     --------------------------- ------------ 1.4/2.1 MB 867.4 kB/s eta 0:00:01\n",
      "     --------------------------- ------------ 1.5/2.1 MB 875.8 kB/s eta 0:00:01\n",
      "     ----------------------------- ---------- 1.5/2.1 MB 893.5 kB/s eta 0:00:01\n",
      "     ------------------------------ --------- 1.6/2.1 MB 898.8 kB/s eta 0:00:01\n",
      "     ------------------------------- -------- 1.6/2.1 MB 906.0 kB/s eta 0:00:01\n",
      "     -------------------------------- ------- 1.7/2.1 MB 918.7 kB/s eta 0:00:01\n",
      "     --------------------------------- ------ 1.8/2.1 MB 926.0 kB/s eta 0:00:01\n",
      "     ---------------------------------- ----- 1.8/2.1 MB 935.2 kB/s eta 0:00:01\n",
      "     ----------------------------------- ---- 1.9/2.1 MB 944.5 kB/s eta 0:00:01\n",
      "     ------------------------------------ --- 1.9/2.1 MB 942.8 kB/s eta 0:00:01\n",
      "     ------------------------------------- -- 2.0/2.1 MB 956.0 kB/s eta 0:00:01\n",
      "     -------------------------------------- - 2.0/2.1 MB 966.2 kB/s eta 0:00:01\n",
      "     ---------------------------------------  2.1/2.1 MB 973.7 kB/s eta 0:00:01\n",
      "     ---------------------------------------  2.1/2.1 MB 973.7 kB/s eta 0:00:01\n",
      "     ---------------------------------------- 2.1/2.1 MB 947.1 kB/s eta 0:00:00\n",
      "Requirement already satisfied: ipython>=6.1.0 in c:\\users\\brandon\\anaconda3\\envs\\tensorflow\\lib\\site-packages (from ipywidgets) (8.10.0)\n",
      "Requirement already satisfied: traitlets>=4.3.1 in c:\\users\\brandon\\anaconda3\\envs\\tensorflow\\lib\\site-packages (from ipywidgets) (5.7.1)\n",
      "Collecting jupyterlab-widgets~=3.0.7\n",
      "  Downloading jupyterlab_widgets-3.0.7-py3-none-any.whl (198 kB)\n",
      "     ---------------------------------------- 0.0/198.2 kB ? eta -:--:--\n",
      "     ------------ -------------------------- 61.4/198.2 kB 1.6 MB/s eta 0:00:01\n",
      "     ----------------------- -------------- 122.9/198.2 kB 1.4 MB/s eta 0:00:01\n",
      "     -------------------------------------  194.6/198.2 kB 1.7 MB/s eta 0:00:01\n",
      "     -------------------------------------- 198.2/198.2 kB 1.3 MB/s eta 0:00:00\n",
      "Requirement already satisfied: ipykernel>=4.5.1 in c:\\users\\brandon\\anaconda3\\envs\\tensorflow\\lib\\site-packages (from ipywidgets) (6.19.2)\n",
      "Requirement already satisfied: matplotlib-inline>=0.1 in c:\\users\\brandon\\anaconda3\\envs\\tensorflow\\lib\\site-packages (from ipykernel>=4.5.1->ipywidgets) (0.1.6)\n",
      "Requirement already satisfied: nest-asyncio in c:\\users\\brandon\\anaconda3\\envs\\tensorflow\\lib\\site-packages (from ipykernel>=4.5.1->ipywidgets) (1.5.6)\n",
      "Requirement already satisfied: jupyter-client>=6.1.12 in c:\\users\\brandon\\anaconda3\\envs\\tensorflow\\lib\\site-packages (from ipykernel>=4.5.1->ipywidgets) (8.1.0)\n",
      "Requirement already satisfied: debugpy>=1.0 in c:\\users\\brandon\\anaconda3\\envs\\tensorflow\\lib\\site-packages (from ipykernel>=4.5.1->ipywidgets) (1.5.1)\n",
      "Requirement already satisfied: tornado>=6.1 in c:\\users\\brandon\\anaconda3\\envs\\tensorflow\\lib\\site-packages (from ipykernel>=4.5.1->ipywidgets) (6.2)\n",
      "Requirement already satisfied: packaging in c:\\users\\brandon\\anaconda3\\envs\\tensorflow\\lib\\site-packages (from ipykernel>=4.5.1->ipywidgets) (23.0)\n",
      "Requirement already satisfied: comm>=0.1.1 in c:\\users\\brandon\\anaconda3\\envs\\tensorflow\\lib\\site-packages (from ipykernel>=4.5.1->ipywidgets) (0.1.2)\n",
      "Requirement already satisfied: pyzmq>=17 in c:\\users\\brandon\\anaconda3\\envs\\tensorflow\\lib\\site-packages (from ipykernel>=4.5.1->ipywidgets) (23.2.0)\n",
      "Requirement already satisfied: psutil in c:\\users\\brandon\\anaconda3\\envs\\tensorflow\\lib\\site-packages (from ipykernel>=4.5.1->ipywidgets) (5.9.0)\n",
      "Requirement already satisfied: stack-data in c:\\users\\brandon\\anaconda3\\envs\\tensorflow\\lib\\site-packages (from ipython>=6.1.0->ipywidgets) (0.2.0)\n",
      "Requirement already satisfied: decorator in c:\\users\\brandon\\anaconda3\\envs\\tensorflow\\lib\\site-packages (from ipython>=6.1.0->ipywidgets) (5.1.1)\n",
      "Requirement already satisfied: jedi>=0.16 in c:\\users\\brandon\\anaconda3\\envs\\tensorflow\\lib\\site-packages (from ipython>=6.1.0->ipywidgets) (0.18.1)\n",
      "Requirement already satisfied: colorama in c:\\users\\brandon\\anaconda3\\envs\\tensorflow\\lib\\site-packages (from ipython>=6.1.0->ipywidgets) (0.4.6)\n",
      "Requirement already satisfied: backcall in c:\\users\\brandon\\anaconda3\\envs\\tensorflow\\lib\\site-packages (from ipython>=6.1.0->ipywidgets) (0.2.0)\n",
      "Requirement already satisfied: prompt-toolkit<3.1.0,>=3.0.30 in c:\\users\\brandon\\anaconda3\\envs\\tensorflow\\lib\\site-packages (from ipython>=6.1.0->ipywidgets) (3.0.36)\n",
      "Requirement already satisfied: pygments>=2.4.0 in c:\\users\\brandon\\anaconda3\\envs\\tensorflow\\lib\\site-packages (from ipython>=6.1.0->ipywidgets) (2.11.2)\n",
      "Requirement already satisfied: pickleshare in c:\\users\\brandon\\anaconda3\\envs\\tensorflow\\lib\\site-packages (from ipython>=6.1.0->ipywidgets) (0.7.5)\n",
      "Requirement already satisfied: parso<0.9.0,>=0.8.0 in c:\\users\\brandon\\anaconda3\\envs\\tensorflow\\lib\\site-packages (from jedi>=0.16->ipython>=6.1.0->ipywidgets) (0.8.3)\n",
      "Requirement already satisfied: importlib-metadata>=4.8.3 in c:\\users\\brandon\\anaconda3\\envs\\tensorflow\\lib\\site-packages (from jupyter-client>=6.1.12->ipykernel>=4.5.1->ipywidgets) (6.0.0)\n",
      "Requirement already satisfied: jupyter-core!=5.0.*,>=4.12 in c:\\users\\brandon\\anaconda3\\envs\\tensorflow\\lib\\site-packages (from jupyter-client>=6.1.12->ipykernel>=4.5.1->ipywidgets) (5.3.0)\n",
      "Requirement already satisfied: python-dateutil>=2.8.2 in c:\\users\\brandon\\anaconda3\\envs\\tensorflow\\lib\\site-packages (from jupyter-client>=6.1.12->ipykernel>=4.5.1->ipywidgets) (2.8.2)\n",
      "Requirement already satisfied: wcwidth in c:\\users\\brandon\\anaconda3\\envs\\tensorflow\\lib\\site-packages (from prompt-toolkit<3.1.0,>=3.0.30->ipython>=6.1.0->ipywidgets) (0.2.5)\n",
      "Requirement already satisfied: executing in c:\\users\\brandon\\anaconda3\\envs\\tensorflow\\lib\\site-packages (from stack-data->ipython>=6.1.0->ipywidgets) (0.8.3)\n",
      "Requirement already satisfied: asttokens in c:\\users\\brandon\\anaconda3\\envs\\tensorflow\\lib\\site-packages (from stack-data->ipython>=6.1.0->ipywidgets) (2.0.5)\n",
      "Requirement already satisfied: pure-eval in c:\\users\\brandon\\anaconda3\\envs\\tensorflow\\lib\\site-packages (from stack-data->ipython>=6.1.0->ipywidgets) (0.2.2)\n",
      "Requirement already satisfied: zipp>=0.5 in c:\\users\\brandon\\anaconda3\\envs\\tensorflow\\lib\\site-packages (from importlib-metadata>=4.8.3->jupyter-client>=6.1.12->ipykernel>=4.5.1->ipywidgets) (3.11.0)\n",
      "Requirement already satisfied: platformdirs>=2.5 in c:\\users\\brandon\\anaconda3\\envs\\tensorflow\\lib\\site-packages (from jupyter-core!=5.0.*,>=4.12->jupyter-client>=6.1.12->ipykernel>=4.5.1->ipywidgets) (2.5.2)\n",
      "Requirement already satisfied: pywin32>=300 in c:\\users\\brandon\\anaconda3\\envs\\tensorflow\\lib\\site-packages (from jupyter-core!=5.0.*,>=4.12->jupyter-client>=6.1.12->ipykernel>=4.5.1->ipywidgets) (305.1)\n",
      "Requirement already satisfied: six>=1.5 in c:\\users\\brandon\\anaconda3\\envs\\tensorflow\\lib\\site-packages (from python-dateutil>=2.8.2->jupyter-client>=6.1.12->ipykernel>=4.5.1->ipywidgets) (1.16.0)\n",
      "Installing collected packages: widgetsnbextension, jupyterlab-widgets, ipywidgets\n",
      "Successfully installed ipywidgets-8.0.6 jupyterlab-widgets-3.0.7 widgetsnbextension-4.0.7\n"
     ]
    }
   ],
   "source": [
    "pip install ipywidgets"
   ]
  },
  {
   "cell_type": "code",
   "execution_count": null,
   "id": "98cd4c2c",
   "metadata": {},
   "outputs": [],
   "source": []
  }
 ],
 "metadata": {
  "kernelspec": {
   "display_name": "Python 3 (ipykernel)",
   "language": "python",
   "name": "python3"
  },
  "language_info": {
   "codemirror_mode": {
    "name": "ipython",
    "version": 3
   },
   "file_extension": ".py",
   "mimetype": "text/x-python",
   "name": "python",
   "nbconvert_exporter": "python",
   "pygments_lexer": "ipython3",
   "version": "3.9.16"
  }
 },
 "nbformat": 4,
 "nbformat_minor": 5
}
